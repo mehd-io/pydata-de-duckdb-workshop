{
  "cells": [
    {
      "cell_type": "markdown",
      "metadata": {},
      "source": [
        "# German EV Charging Infrastructure Analysis\n",
        "\n",
        "Simple e2e data pipeline using DuckDB.\n",
        "\n",
        "**Pipeline**: Ingestion → Transformation → Visualization → Export\n",
        "\n",
        "**Data Sources**: \n",
        "- EV stations: OpenChargeMap API\n",
        "- Population: German postal codes CSV\n",
        "- States: German PLZ-to-Bundesland mapping\n"
      ]
    },
    {
      "cell_type": "code",
      "execution_count": null,
      "metadata": {},
      "outputs": [],
      "source": [
        "# Setup\n",
        "%pip install duckdb==1.3.2 lonboard\n",
        "\n",
        "import duckdb\n",
        "import os\n",
        "from lonboard import Map, ScatterplotLayer, viz\n",
        "\n",
        "# Connect to DuckDB\n",
        "con = duckdb.connect()\n",
        "con.sql(\"INSTALL spatial; LOAD spatial;\")\n",
        "con.sql(\"INSTALL httpfs; LOAD httpfs;\")\n",
        "print(\"✅ Setup complete\")\n"
      ]
    },
    {
      "cell_type": "markdown",
      "metadata": {},
      "source": [
        "## 🔄 1. INGESTION\n"
      ]
    },
    {
      "cell_type": "code",
      "execution_count": null,
      "metadata": {},
      "outputs": [],
      "source": [
        "# EV Charging Stations (Germany)\n",
        "poi_url = (\n",
        "    \"https://api-01.openchargemap.io/v3/poi\"\n",
        "    \"?client=ocm-data-export&maxresults=100000&compact=true&verbose=false\"\n",
        "    \"&boundingbox=(55.099,5.866),(47.270,15.041)\"\n",
        ")\n",
        "con.sql(f\"CREATE OR REPLACE TABLE raw_poi_de AS SELECT * FROM read_json_auto('{poi_url}');\")\n",
        "\n",
        "# German Population by Postal Code\n",
        "plz_csv_url = \"https://downloads.suche-postleitzahl.org/v2/public/plz_einwohner.csv\"\n",
        "con.sql(f\"\"\"\n",
        "CREATE OR REPLACE TABLE raw_plz_population AS\n",
        "SELECT\n",
        "  CAST(plz AS VARCHAR) AS plz,\n",
        "  CAST(einwohner AS BIGINT) AS population,\n",
        "  CAST(lat AS DOUBLE) AS latitude,\n",
        "  CAST(lon AS DOUBLE) AS longitude,\n",
        "  note AS location_name\n",
        "FROM read_csv_auto('{plz_csv_url}');\n",
        "\"\"\")\n",
        "\n",
        "# German States Mapping\n",
        "states_csv_url = \"https://gist.githubusercontent.com/jbspeakr/4565964/raw/4083f8b8933f0e9a64dafc943ecbae496f9d65d2/German-Zip-Codes.csv\"\n",
        "con.sql(f\"\"\"\n",
        "CREATE OR REPLACE TABLE raw_plz_states AS\n",
        "SELECT\n",
        "  TRIM(CAST(Plz AS VARCHAR)) AS plz,\n",
        "  TRIM(CAST(Bundesland AS VARCHAR)) AS bundesland\n",
        "FROM read_csv_auto('{states_csv_url}', delim=';', header=true)\n",
        "WHERE Plz IS NOT NULL AND Bundesland IS NOT NULL;\n",
        "\"\"\")\n",
        "\n",
        "print(f\"📊 Ingested: {con.sql('SELECT COUNT(*) FROM raw_poi_de').fetchone()[0]:,} EV stations\")\n",
        "print(f\"📊 Ingested: {con.sql('SELECT COUNT(*) FROM raw_plz_population').fetchone()[0]:,} postal codes\")\n",
        "print(f\"📊 Total German population: {con.sql('SELECT SUM(population) FROM raw_plz_population').fetchone()[0]:,}\")\n"
      ]
    },
    {
      "cell_type": "markdown",
      "metadata": {},
      "source": [
        "## ⚙️ 2. TRANSFORMATION\n"
      ]
    },
    {
      "cell_type": "code",
      "execution_count": null,
      "metadata": {},
      "outputs": [],
      "source": [
        "# Clean and normalize EV stations\n",
        "con.sql(\"\"\"\n",
        "CREATE OR REPLACE TABLE clean_ev_stations AS\n",
        "WITH flattened AS (\n",
        "  SELECT\n",
        "    ID AS site_id,\n",
        "    AddressInfo.Title AS title,\n",
        "    SUBSTR(REGEXP_REPLACE(AddressInfo.Postcode, '[^0-9]', ''), 1, 5) AS plz,\n",
        "    COALESCE(AddressInfo.Town, AddressInfo.StateOrProvince) AS city,\n",
        "    CAST(AddressInfo.Latitude AS DOUBLE) AS latitude,\n",
        "    CAST(AddressInfo.Longitude AS DOUBLE) AS longitude,\n",
        "    unnest(Connections) AS connection\n",
        "  FROM raw_poi_de\n",
        "  WHERE AddressInfo.Latitude IS NOT NULL\n",
        "    AND AddressInfo.Longitude IS NOT NULL\n",
        "    AND AddressInfo.Postcode IS NOT NULL\n",
        ")\n",
        "SELECT\n",
        "  site_id, title, plz, city, latitude, longitude,\n",
        "  SUM(COALESCE(connection.Quantity, 1)) AS connector_count,\n",
        "  ST_Point(longitude, latitude) AS geometry\n",
        "FROM flattened\n",
        "GROUP BY site_id, title, plz, city, latitude, longitude;\n",
        "\"\"\")\n",
        "\n",
        "# Enrich with population and state data\n",
        "con.sql(\"\"\"\n",
        "CREATE OR REPLACE TABLE enriched_ev_stations AS\n",
        "SELECT\n",
        "  e.*, p.population, p.location_name, s.bundesland\n",
        "FROM clean_ev_stations e\n",
        "LEFT JOIN raw_plz_population p ON e.plz = p.plz\n",
        "LEFT JOIN raw_plz_states s ON e.plz = s.plz;\n",
        "\"\"\")\n",
        "\n",
        "print(f\"🔌 Cleaned: {con.sql('SELECT COUNT(*) FROM enriched_ev_stations').fetchone()[0]:,} EV stations\")\n",
        "print(f\"🔌 Total connectors: {con.sql('SELECT SUM(connector_count) FROM enriched_ev_stations').fetchone()[0]:,}\")\n"
      ]
    },
    {
      "cell_type": "code",
      "execution_count": null,
      "metadata": {},
      "outputs": [],
      "source": [
        "# Calculate KPIs\n",
        "con.sql(\"\"\"\n",
        "CREATE OR REPLACE TABLE kpi_by_plz AS\n",
        "SELECT\n",
        "  e.plz,\n",
        "  MAX(e.location_name) AS location_name,\n",
        "  COUNT(e.site_id) AS ev_stations,\n",
        "  SUM(e.connector_count) AS total_connectors,\n",
        "  MAX(e.population) AS population,\n",
        "  MAX(e.bundesland) AS bundesland,\n",
        "  ROUND(100000.0 * SUM(e.connector_count) / NULLIF(MAX(e.population), 0), 2) AS connectors_per_100k\n",
        "FROM enriched_ev_stations e\n",
        "WHERE e.population IS NOT NULL\n",
        "GROUP BY e.plz\n",
        "HAVING SUM(e.connector_count) > 0\n",
        "ORDER BY connectors_per_100k DESC;\n",
        "\"\"\")\n",
        "\n",
        "con.sql(\"\"\"\n",
        "CREATE OR REPLACE TABLE kpi_by_state AS\n",
        "SELECT\n",
        "  e.bundesland,\n",
        "  COUNT(e.site_id) AS ev_stations,\n",
        "  SUM(e.connector_count) AS total_connectors,\n",
        "  SUM(e.population) AS total_population,\n",
        "  ROUND(100000.0 * SUM(e.connector_count) / NULLIF(SUM(e.population), 0), 2) AS connectors_per_100k\n",
        "FROM enriched_ev_stations e\n",
        "WHERE e.population IS NOT NULL AND e.bundesland IS NOT NULL\n",
        "GROUP BY e.bundesland\n",
        "ORDER BY connectors_per_100k DESC;\n",
        "\"\"\")\n",
        "\n",
        "print(\"📊 KPIs calculated for postal codes and states\")\n"
      ]
    },
    {
      "cell_type": "markdown",
      "metadata": {},
      "source": [
        "## 📊 3. VISUALIZATION\n"
      ]
    },
    {
      "cell_type": "code",
      "execution_count": null,
      "metadata": {},
      "outputs": [],
      "source": [
        "!pip install shapely"
      ]
    },
    {
      "cell_type": "code",
      "execution_count": null,
      "metadata": {},
      "outputs": [],
      "source": [
        "# Basic EV stations map\n",
        "basic_query = con.sql(\"\"\"\n",
        "SELECT \n",
        "  site_id, title, connector_count, geometry\n",
        "FROM enriched_ev_stations\n",
        "WHERE latitude BETWEEN 47.0 AND 55.2\n",
        "  AND longitude BETWEEN 5.5 AND 15.5\n",
        "ORDER BY connector_count DESC\n",
        "LIMIT 5000\n",
        "\"\"\")\n",
        "\n",
        "basic_map = viz(basic_query)\n",
        "display(basic_map)\n",
        "print(\"🗺️ Basic EV stations map created\")\n"
      ]
    },
    {
      "cell_type": "markdown",
      "metadata": {},
      "source": [
        "## 💾 4. EXPORT\n"
      ]
    },
    {
      "cell_type": "code",
      "execution_count": null,
      "metadata": {},
      "outputs": [],
      "source": [
        "# Create separate database and export as Parquet\n",
        "con.sql(\"ATTACH 'ev_germany_analysis.db' AS ev_db;\")\n",
        "\n",
        "# Copy tables to new database\n",
        "tables_to_export = [\n",
        "    'enriched_ev_stations',\n",
        "    'kpi_by_plz', \n",
        "    'kpi_by_state',\n",
        "    'raw_plz_population'\n",
        "]\n",
        "\n",
        "for table in tables_to_export:\n",
        "    con.sql(f\"CREATE OR REPLACE TABLE ev_db.{table} AS SELECT * FROM {table};\")\n",
        "    # Export to Parquet\n",
        "    con.sql(f\"COPY ev_db.{table} TO '{table}.parquet' (FORMAT PARQUET);\")\n",
        "    row_count = con.sql(f\"SELECT COUNT(*) FROM {table}\").fetchone()[0]\n",
        "    print(f\"✅ Exported {table}.parquet ({row_count:,} rows)\")\n",
        "\n",
        "print(\"\\n💾 All data exported to:\")\n",
        "print(\"  📁 ev_germany_analysis.db (DuckDB database)\")\n",
        "print(\"  📄 *.parquet files (individual tables)\")\n"
      ]
    },
    {
      "cell_type": "markdown",
      "metadata": {},
      "source": [
        "## 📈 5. SUMMARY\n"
      ]
    },
    {
      "cell_type": "code",
      "execution_count": null,
      "metadata": {},
      "outputs": [],
      "source": [
        "# Fixed population statistics\n",
        "overall_stats = con.sql(\"\"\"\n",
        "SELECT \n",
        "  COUNT(*) as total_stations,\n",
        "  SUM(connector_count) as total_connectors,\n",
        "  COUNT(DISTINCT e.plz) as unique_postal_codes,\n",
        "  SUM(DISTINCT_population.pop) as actual_population_covered,\n",
        "  ROUND(AVG(connector_count), 1) as avg_connectors_per_station\n",
        "FROM enriched_ev_stations e\n",
        "JOIN (\n",
        "  SELECT plz, MAX(population) as pop \n",
        "  FROM enriched_ev_stations \n",
        "  WHERE population IS NOT NULL \n",
        "  GROUP BY plz\n",
        ") DISTINCT_population ON e.plz = DISTINCT_population.plz\n",
        "WHERE e.population IS NOT NULL\n",
        "\"\"\").fetchone()\n",
        "\n",
        "print(\"📊 FINAL SUMMARY\")\n",
        "print(\"=\" * 40)\n",
        "print(f\"🚗 Total EV Stations: {overall_stats[0]:,}\")\n",
        "print(f\"🔌 Total Connectors: {overall_stats[1]:,}\")\n",
        "print(f\"📮 Postal Codes Covered: {overall_stats[2]:,}\")\n",
        "print(f\"👥 Population Covered: {overall_stats[3]:,}\")\n",
        "print(f\"⚡ Avg Connectors/Station: {overall_stats[4]}\")\n",
        "\n",
        "# Top areas\n",
        "print(\"\\n🏆 TOP 5 AREAS (connectors per 100k residents):\")\n",
        "top_areas = con.sql(\"SELECT plz, location_name, connectors_per_100k FROM kpi_by_plz LIMIT 5\").fetchall()\n",
        "for i, area in enumerate(top_areas, 1):\n",
        "    print(f\"  {i}. PLZ {area[0]} - {area[2]} connectors/100k\")\n",
        "\n",
        "print(\"\\n🏛️ TOP 5 STATES:\")\n",
        "top_states = con.sql(\"SELECT bundesland, connectors_per_100k FROM kpi_by_state LIMIT 5\").fetchall()\n",
        "for i, state in enumerate(top_states, 1):\n",
        "    print(f\"  {i}. {state[0]} - {state[1]} connectors/100k\")\n",
        "\n",
        "print(\"\\n✅ Pipeline complete! Data ready for analysis.\")\n"
      ]
    }
  ],
  "metadata": {
    "kernelspec": {
      "display_name": "Python 3",
      "language": "python",
      "name": "python3"
    },
    "language_info": {
      "codemirror_mode": {
        "name": "ipython",
        "version": 3
      },
      "file_extension": ".py",
      "mimetype": "text/x-python",
      "name": "python",
      "nbconvert_exporter": "python",
      "pygments_lexer": "ipython3",
      "version": "3.12.10"
    }
  },
  "nbformat": 4,
  "nbformat_minor": 2
}
