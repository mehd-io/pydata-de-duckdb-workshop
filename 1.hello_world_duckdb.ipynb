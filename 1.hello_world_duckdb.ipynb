{
 "cells": [
  {
   "cell_type": "markdown",
   "id": "736f04b8",
   "metadata": {},
   "source": [
    "# DuckDB Tutorial: From Hello World to Advanced Features\n",
    "\n",
    "This notebook contains practical examples demonstrating DuckDB's capabilities, from basic operations to advanced features like cloud data access and integration with Python data libraries."
   ]
  },
  {
   "cell_type": "code",
   "execution_count": null,
   "id": "4e460378",
   "metadata": {},
   "outputs": [],
   "source": [
    "!pip install duckdb"
   ]
  },
  {
   "cell_type": "markdown",
   "id": "f11684fc",
   "metadata": {},
   "source": [
    "## 1. Hello World DuckDB\n",
    "\n",
    "Let's start with the basics - connecting to DuckDB and running a simple query."
   ]
  },
  {
   "cell_type": "code",
   "execution_count": null,
   "id": "f4511e1c",
   "metadata": {},
   "outputs": [],
   "source": [
    "import duckdb\n",
    "\n",
    "# Create an in-memory DuckDB connection\n",
    "con = duckdb.connect()\n",
    "\n",
    "# Run a simple query\n",
    "con.sql(\"SELECT 'mandarin' AS breed, 6 AS age;\")"
   ]
  },
  {
   "cell_type": "markdown",
   "id": "df0821ee",
   "metadata": {},
   "source": [
    "## 2. DuckDB Database Files\n",
    "\n",
    "DuckDB can work both in-memory and with persistent database files. Let's explore how tables persist across connections."
   ]
  },
  {
   "cell_type": "code",
   "execution_count": null,
   "id": "01f6c775",
   "metadata": {},
   "outputs": [],
   "source": [
    "# Check what tables exist in our in-memory connection\n",
    "con.sql(\"SHOW TABLES;\")"
   ]
  },
  {
   "cell_type": "code",
   "execution_count": null,
   "id": "da0ccfe1",
   "metadata": {},
   "outputs": [],
   "source": [
    "# Create a table in memory\n",
    "con.sql(\"CREATE TABLE IF NOT EXISTS ducks AS SELECT 'mandarin' AS breed, 6 AS age;\")\n",
    "\n",
    "# Now we should see the table\n",
    "con.sql(\"SHOW TABLES;\")"
   ]
  },
  {
   "cell_type": "code",
   "execution_count": null,
   "id": "5bdf579f",
   "metadata": {},
   "outputs": [],
   "source": [
    "# Let's restart fresh and create a persistent database file\n",
    "import duckdb\n",
    "\n",
    "# Connect to a file-based database (will create the file if it doesn't exist)\n",
    "con = duckdb.connect('duckdb_tutorial.db')"
   ]
  },
  {
   "cell_type": "code",
   "execution_count": null,
   "id": "d3b3727b",
   "metadata": {},
   "outputs": [],
   "source": [
    "# Create a table in the persistent database\n",
    "con.sql(\"CREATE TABLE IF NOT EXISTS ducks AS SELECT 'mandarin' AS breed, 6 AS age;\")\n",
    "\n",
    "# Show tables - this will persist even after restarting the kernel\n",
    "con.sql(\"SHOW TABLES;\")"
   ]
  },
  {
   "cell_type": "markdown",
   "id": "5fb875b2",
   "metadata": {},
   "source": [
    "## 3. Working with External Data Sources\n",
    "\n",
    "DuckDB's real power comes from its ability to work with various file formats and cloud storage directly, without needing to import data first."
   ]
  },
  {
   "cell_type": "code",
   "execution_count": null,
   "id": "c7a40b67",
   "metadata": {},
   "outputs": [],
   "source": [
    "# We can attach multiple databases and work with them simultaneously\n",
    "# Note: This will create netflix.db if it doesn't exist\n",
    "try:\n",
    "    con.sql(\"ATTACH 'netflix.db' AS netflix;\")\n",
    "    print(\"Successfully attached netflix database\")\n",
    "except Exception as e:\n",
    "    print(f\"Database might already be attached: {e}\")\n",
    "    \n",
    "# Switch to using the netflix database\n",
    "con.sql(\"USE netflix;\")"
   ]
  },
  {
   "cell_type": "code",
   "execution_count": null,
   "id": "8ab94564",
   "metadata": {},
   "outputs": [],
   "source": [
    "# DuckDB can directly query data from cloud storage (S3) without downloading\n",
    "# This is one of DuckDB's most powerful features - \"zero-copy\" data access\n",
    "con.sql(\"FROM 's3://us-prd-motherduck-open-datasets/netflix/netflix_daily_top_10.parquet'\")"
   ]
  },
  {
   "cell_type": "code",
   "execution_count": null,
   "id": "2f65d416",
   "metadata": {},
   "outputs": [],
   "source": [
    "# Let's create a local table from the cloud data for easier querying\n",
    "con.sql(\"CREATE TABLE netflix_daily_top_10 AS SELECT * FROM 's3://us-prd-motherduck-open-datasets/netflix/netflix_daily_top_10.parquet';\")"
   ]
  },
  {
   "cell_type": "code",
   "execution_count": null,
   "id": "ff320149",
   "metadata": {},
   "outputs": [],
   "source": [
    "# DuckDB uses extensions to add functionality\n",
    "# Let's see what extensions are available and loaded\n",
    "con.sql(\"FROM duckdb_extensions()\")"
   ]
  },
  {
   "cell_type": "markdown",
   "id": "5768e00f",
   "metadata": {},
   "source": [
    "## 4. Data Analysis Examples\n",
    "\n",
    "Now let's perform some analysis on the Netflix data to see DuckDB's SQL capabilities in action.\n"
   ]
  },
  {
   "cell_type": "code",
   "execution_count": null,
   "id": "c2d8cfa5",
   "metadata": {},
   "outputs": [],
   "source": []
  },
  {
   "cell_type": "code",
   "execution_count": null,
   "id": "7ea9e3fe",
   "metadata": {},
   "outputs": [],
   "source": [
    "# Find the TV shows that stayed in the top 10 the longest\n",
    "con.sql(\"\"\"\n",
    "SELECT Title, max(\"Days In Top 10\") as max_days_in_top_10\n",
    "FROM netflix_daily_top_10\n",
    "WHERE Type = 'TV Show'\n",
    "GROUP BY Title\n",
    "ORDER BY max_days_in_top_10 DESC\n",
    "LIMIT 5;\n",
    "\"\"\")"
   ]
  },
  {
   "cell_type": "code",
   "execution_count": null,
   "id": "0cbc61f5",
   "metadata": {},
   "outputs": [],
   "source": [
    "# Now let's do the same for movies\n",
    "con.sql(\"\"\"\n",
    "SELECT Title, max(\"Days In Top 10\") as max_days_in_top_10\n",
    "FROM netflix_daily_top_10\n",
    "WHERE Type = 'Movie'\n",
    "GROUP BY Title\n",
    "ORDER BY max_days_in_top_10 DESC\n",
    "LIMIT 5;\n",
    "\"\"\")"
   ]
  },
  {
   "cell_type": "code",
   "execution_count": null,
   "id": "09c397ae",
   "metadata": {},
   "outputs": [],
   "source": [
    "# Export query results to CSV - DuckDB makes this very easy\n",
    "con.sql(\"\"\"\n",
    "COPY (\n",
    "    SELECT Title, max(\"Days In Top 10\") as max_days_in_top_10\n",
    "    FROM netflix_daily_top_10\n",
    "    WHERE Type = 'TV Show'\n",
    "    GROUP BY Title\n",
    "    ORDER BY max_days_in_top_10 DESC\n",
    "    LIMIT 5\n",
    ") TO 'top_tv_shows.csv' (HEADER, DELIMITER ',');\n",
    "\"\"\")"
   ]
  },
  {
   "cell_type": "markdown",
   "id": "49c9c163",
   "metadata": {},
   "source": [
    "## 5. Working with JSON APIs\n",
    "\n",
    "DuckDB can directly query JSON data from web APIs - no need for separate HTTP libraries!\n"
   ]
  },
  {
   "cell_type": "code",
   "execution_count": null,
   "id": "355684f4",
   "metadata": {},
   "outputs": [],
   "source": [
    "# Query GitHub API to get programming languages used in DuckDB repository\n",
    "# UNPIVOT transforms columns into rows - very useful for JSON data\n",
    "con.sql(\"\"\"\n",
    "UNPIVOT read_json_auto('https://api.github.com/repos/duckdb/duckdb/languages')\n",
    "ON COLUMNS(*)\n",
    "INTO \n",
    "    NAME language\n",
    "    VALUE bytes\n",
    "ORDER BY bytes DESC;\n",
    "\"\"\")\n"
   ]
  },
  {
   "cell_type": "markdown",
   "id": "5cafaaea",
   "metadata": {},
   "source": [
    "## 6. Database Connections and Secrets\n",
    "\n",
    "DuckDB can connect to other databases like PostgreSQL, MySQL, and SQLite. Here's how to manage connections securely."
   ]
  },
  {
   "cell_type": "code",
   "execution_count": null,
   "id": "6045c4ee",
   "metadata": {},
   "outputs": [],
   "source": [
    "# Example: Creating a secret for PostgreSQL connection\n",
    "# Note: In production, never hardcode credentials like this!\n",
    "# Use environment variables or secure credential management instead\n",
    "\n",
    "con.sql(\"\"\"\n",
    "CREATE OR REPLACE SECRET postgres_secret (\n",
    "    TYPE postgres,\n",
    "    HOST 'your-postgres-host.com',\n",
    "    PORT 5432,\n",
    "    DATABASE your_database,\n",
    "    USER 'your_username',\n",
    "    PASSWORD 'your_password'\n",
    ");\n",
    "\"\"\")\n"
   ]
  },
  {
   "cell_type": "code",
   "execution_count": null,
   "id": "052bfd31",
   "metadata": {},
   "outputs": [],
   "source": [
    "# Attach the PostgreSQL database using the secret\n",
    "# This would allow you to query PostgreSQL tables directly from DuckDB\n",
    "# con.sql(\"ATTACH '' AS postgres_db (TYPE postgres, SECRET postgres_secret);\")\n",
    "\n",
    "print(\"Secret created successfully (commented out for demo purposes)\")\n"
   ]
  },
  {
   "cell_type": "markdown",
   "id": "c2531610",
   "metadata": {},
   "source": [
    "## 7. Integration with Python Data Libraries\n",
    "\n",
    "One of DuckDB's greatest strengths is seamless integration with pandas, Polars, and other Python data libraries.\n"
   ]
  },
  {
   "cell_type": "code",
   "execution_count": null,
   "id": "e504eb4d",
   "metadata": {},
   "outputs": [],
   "source": [
    "!pip install polars pyarrow"
   ]
  },
  {
   "cell_type": "code",
   "execution_count": null,
   "id": "0b95925a",
   "metadata": {},
   "outputs": [],
   "source": [
    "import duckdb\n",
    "import polars as pl\n",
    "\n",
    "# Create a Polars DataFrame\n",
    "df = pl.DataFrame({\n",
    "    \"A\": [1, 2, 3, 4, 5],\n",
    "    \"fruits\": [\"banana\", \"banana\", \"apple\", \"apple\", \"banana\"],\n",
    "    \"B\": [5, 4, 3, 2, 1],\n",
    "    \"cars\": [\"beetle\", \"audi\", \"beetle\", \"beetle\", \"beetle\"],\n",
    "})\n",
    "\n",
    "# DuckDB can directly query Polars DataFrames!\n",
    "# The DataFrame is automatically detected and can be used in SQL\n",
    "result = duckdb.sql(\"\"\"\n",
    "    SELECT fruits, \n",
    "           COUNT(*) as count, \n",
    "           AVG(A) as avg_A\n",
    "    FROM df \n",
    "    GROUP BY fruits\n",
    "    ORDER BY count DESC\n",
    "\"\"\")\n",
    "\n",
    "result.show()\n"
   ]
  },
  {
   "cell_type": "markdown",
   "id": "26c6867d",
   "metadata": {},
   "source": [
    "## Scaling with MotherDuck"
   ]
  },
  {
   "cell_type": "code",
   "execution_count": null,
   "id": "73b51a82",
   "metadata": {},
   "outputs": [],
   "source": [
    "con.sql(\"\"\"ATTACH 'md:'\"\"\")\n"
   ]
  },
  {
   "cell_type": "code",
   "execution_count": null,
   "id": "5ef0761d",
   "metadata": {},
   "outputs": [],
   "source": [
    "con.sql(\"\"\"\n",
    "ATTACH IF NOT EXISTS 'md:_share/hacker_news/de11a0e3-9d68-48d2-ac44-40e07a1d496b' AS hacker_news;\"\"\")\n",
    "con.sql(\"\"\"USE hacker_news;\"\"\")"
   ]
  },
  {
   "cell_type": "code",
   "execution_count": null,
   "id": "abbddfc3",
   "metadata": {},
   "outputs": [],
   "source": [
    "con.sql(\"\"\"SHOW TABLES;\"\"\")\n",
    "con.sql(\"\"\"SELECT count(*) FROM hacker_news.hacker_news;\"\"\")"
   ]
  },
  {
   "cell_type": "code",
   "execution_count": null,
   "id": "35a51e36",
   "metadata": {},
   "outputs": [],
   "source": [
    "con.sql(\"\"\"\n",
    "SELECT\n",
    "    regexp_extract(url, 'http[s]?://([^/]+)/', 1) AS domain,\n",
    "    count(*) AS count\n",
    "FROM hacker_news.hacker_news\n",
    "WHERE url IS NOT NULL AND regexp_extract(url, 'http[s]?://([^/]+)/', 1) != ''\n",
    "GROUP BY domain\n",
    "ORDER BY count DESC\n",
    "LIMIT 20;\n",
    "\"\"\")\n",
    "\n"
   ]
  },
  {
   "cell_type": "code",
   "execution_count": null,
   "id": "b3b16b05",
   "metadata": {},
   "outputs": [],
   "source": [
    "con.sql(\"\"\"CREATE DATABASE IF NOT EXISTS duckdb_tutorial FROM './duckdb_tutorial.db';\"\"\")"
   ]
  }
 ],
 "metadata": {
  "kernelspec": {
   "display_name": "Python 3",
   "language": "python",
   "name": "python3"
  },
  "language_info": {
   "codemirror_mode": {
    "name": "ipython",
    "version": 3
   },
   "file_extension": ".py",
   "mimetype": "text/x-python",
   "name": "python",
   "nbconvert_exporter": "python",
   "pygments_lexer": "ipython3",
   "version": "3.12.10"
  }
 },
 "nbformat": 4,
 "nbformat_minor": 5
}
